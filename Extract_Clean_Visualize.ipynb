{
 "cells": [
  {
   "cell_type": "code",
   "execution_count": 31,
   "metadata": {},
   "outputs": [],
   "source": [
    "import pandas as pd\n",
    "import numpy as np\n",
    "import seaborn as sns\n",
    "import matplotlib.pyplot as plt\n",
    "import plotly.express as px\n",
    "import pyodbc\n",
    "%matplotlib inline"
   ]
  },
  {
   "cell_type": "code",
   "execution_count": 15,
   "metadata": {},
   "outputs": [],
   "source": [
    "# Kết nối với SQL Server\n",
    "conn = pyodbc.connect('DRIVER={SQL Server};'\n",
    "                      'SERVER=DESKTOP-ITNOTIB;'\n",
    "                      'DATABASE=QL_HDPHONGLAB;'\n",
    "                      'UID=sa;'\n",
    "                      'PWD=123')"
   ]
  },
  {
   "cell_type": "code",
   "execution_count": null,
   "metadata": {},
   "outputs": [],
   "source": [
    "# Danh sách các bảng cần trích xuất\n",
    "tables = ['PHANQUYEN', 'NGUOIDUNG', 'DOIMATKHAU', 'LOAIPHONGLAB', 'TTDANGKY', 'PHONGLAB', 'PHONGBAN', 'GIANGVIEN', 'SINHVIEN', 'NSX', 'NCC',\n",
    "          'LOAITTB', 'LOAIHOACHAT', 'HOACHAT', 'CT_HOACHAT', 'THIETBI', 'CT_THIETBI', 'DUNGCU', 'CT_DUNGCU', 'BANGGIA', 'PHIEUXUAT', 'CHITIETPHIEUXUAT', 'PHIEUNHAP', 'CHITIETPHIEUNHAP', 'PHIEUNHAP_KHOA']  # Thay đổi theo tên bảng của bạn\n",
    "\n",
    "# Tạo một writer để ghi file Excel\n",
    "with pd.ExcelWriter('QL_HDPHONGLAB_output.xlsx', engine='openpyxl') as writer:\n",
    "    for table in tables:\n",
    "        # Truy vấn dữ liệu từ từng bảng\n",
    "        query = f'SELECT * FROM {table}'\n",
    "        df = pd.read_sql(query, conn)\n",
    "        \n",
    "        # Ghi dữ liệu vào sheet với tên bảng\n",
    "        df.to_excel(writer, sheet_name=table, index=False)\n",
    "\n",
    "# Đóng kết nối\n",
    "conn.close()"
   ]
  },
  {
   "cell_type": "code",
   "execution_count": 32,
   "metadata": {},
   "outputs": [
    {
     "name": "stdout",
     "output_type": "stream",
     "text": [
      "Dữ liệu đã được đọc thành công:\n",
      "   MAPN_KHOA MAHC_CNTP MATB_CNTP MADC_CNTP   NGAYNHAP  \\\n",
      "0          1      HC01      TB01      DC01 2023-08-23   \n",
      "1          2      HC02      TB02      DC02 2023-09-23   \n",
      "2          3      HC03      TB03      DC03 2023-10-23   \n",
      "\n",
      "                       NOIDUNG  NGUOIKIEMDUYET  GHICHU  \n",
      "0  NHẬP TRANG THIẾT BỊ VỀ KHOA  HUỲNH VĂN TÙNG  ABCXYZ  \n",
      "1  NHẬP TRANG THIẾT BỊ VỀ KHOA  HUỲNH VĂN TÙNG  ABCXYZ  \n",
      "2  NHẬP TRANG THIẾT BỊ VỀ KHOA  HUỲNH VĂN TÙNG  ABCXYZ  \n"
     ]
    }
   ],
   "source": [
    "# Đọc dữ liệu từ file excel\n",
    "file_path = r'C:\\Users\\Admin\\Desktop\\QL_HDPHONGLAB\\QL_HDPHONGLAB_output.xlsx'  # Thay đổi đường dẫn đến file Excel của bạn\n",
    "sheet_name = 'THONGTIN_HOACHAT'  # Tên sheet mà bạn muốn đọc\n",
    "\n",
    "try:\n",
    "    # Đọc dữ liệu từ sheet\n",
    "    df_hoachat = pd.read_excel(file_path, sheet_name=sheet_name)\n",
    "    print(\"Dữ liệu đã được đọc thành công:\")\n",
    "    print(df)\n",
    "\n",
    "except FileNotFoundError:\n",
    "    print(f\"File không tồn tại: {file_path}\")\n",
    "\n",
    "except ValueError as e:\n",
    "    print(f\"Giá trị không hợp lệ: {e}\")\n",
    "\n",
    "except Exception as e:\n",
    "    print(f\"Có lỗi xảy ra: {e}\")"
   ]
  },
  {
   "cell_type": "code",
   "execution_count": 33,
   "metadata": {},
   "outputs": [
    {
     "data": {
      "text/html": [
       "<div>\n",
       "<style scoped>\n",
       "    .dataframe tbody tr th:only-of-type {\n",
       "        vertical-align: middle;\n",
       "    }\n",
       "\n",
       "    .dataframe tbody tr th {\n",
       "        vertical-align: top;\n",
       "    }\n",
       "\n",
       "    .dataframe thead th {\n",
       "        text-align: right;\n",
       "    }\n",
       "</style>\n",
       "<table border=\"1\" class=\"dataframe\">\n",
       "  <thead>\n",
       "    <tr style=\"text-align: right;\">\n",
       "      <th></th>\n",
       "      <th>STT</th>\n",
       "      <th>MAHC</th>\n",
       "      <th>TENHC</th>\n",
       "      <th>CASNO</th>\n",
       "      <th>LUONGNHAP</th>\n",
       "      <th>LUONGXUAT</th>\n",
       "      <th>LUONGTON</th>\n",
       "      <th>GIANHAP</th>\n",
       "      <th>NGAYNHAP</th>\n",
       "      <th>NGAYHETHAN</th>\n",
       "      <th>XUATXU</th>\n",
       "    </tr>\n",
       "  </thead>\n",
       "  <tbody>\n",
       "    <tr>\n",
       "      <th>0</th>\n",
       "      <td>1</td>\n",
       "      <td>HC01</td>\n",
       "      <td>KALI HIDROXIT</td>\n",
       "      <td>SZHA0199</td>\n",
       "      <td>120</td>\n",
       "      <td>10</td>\n",
       "      <td>110</td>\n",
       "      <td>150000</td>\n",
       "      <td>2023-01-01</td>\n",
       "      <td>2023-01-01</td>\n",
       "      <td>HÀN QUỐC</td>\n",
       "    </tr>\n",
       "    <tr>\n",
       "      <th>1</th>\n",
       "      <td>2</td>\n",
       "      <td>HC02</td>\n",
       "      <td>NATRI HIDROXIT</td>\n",
       "      <td>JHXHJS112</td>\n",
       "      <td>110</td>\n",
       "      <td>10</td>\n",
       "      <td>100</td>\n",
       "      <td>120000</td>\n",
       "      <td>2023-02-02</td>\n",
       "      <td>2023-02-02</td>\n",
       "      <td>TRUNG QUỐC</td>\n",
       "    </tr>\n",
       "    <tr>\n",
       "      <th>2</th>\n",
       "      <td>3</td>\n",
       "      <td>HC03</td>\n",
       "      <td>BARI HIDROXIT</td>\n",
       "      <td>NSHJ10293</td>\n",
       "      <td>100</td>\n",
       "      <td>10</td>\n",
       "      <td>90</td>\n",
       "      <td>110000</td>\n",
       "      <td>2023-03-03</td>\n",
       "      <td>2023-03-03</td>\n",
       "      <td>NHẬT BẢN</td>\n",
       "    </tr>\n",
       "    <tr>\n",
       "      <th>3</th>\n",
       "      <td>4</td>\n",
       "      <td>HC04</td>\n",
       "      <td>AMON CLORUA</td>\n",
       "      <td>JDHHSK123</td>\n",
       "      <td>90</td>\n",
       "      <td>10</td>\n",
       "      <td>80</td>\n",
       "      <td>130000</td>\n",
       "      <td>2023-04-04</td>\n",
       "      <td>2023-04-04</td>\n",
       "      <td>THÁI LAN</td>\n",
       "    </tr>\n",
       "    <tr>\n",
       "      <th>4</th>\n",
       "      <td>5</td>\n",
       "      <td>HC05</td>\n",
       "      <td>AMON SUNFAT</td>\n",
       "      <td>DHSG1872</td>\n",
       "      <td>150</td>\n",
       "      <td>10</td>\n",
       "      <td>140</td>\n",
       "      <td>140000</td>\n",
       "      <td>2023-05-05</td>\n",
       "      <td>2023-05-05</td>\n",
       "      <td>SINGAPORE</td>\n",
       "    </tr>\n",
       "  </tbody>\n",
       "</table>\n",
       "</div>"
      ],
      "text/plain": [
       "   STT  MAHC           TENHC      CASNO  LUONGNHAP  LUONGXUAT  LUONGTON  \\\n",
       "0    1  HC01   KALI HIDROXIT   SZHA0199        120         10       110   \n",
       "1    2  HC02  NATRI HIDROXIT  JHXHJS112        110         10       100   \n",
       "2    3  HC03   BARI HIDROXIT  NSHJ10293        100         10        90   \n",
       "3    4  HC04     AMON CLORUA  JDHHSK123         90         10        80   \n",
       "4    5  HC05     AMON SUNFAT   DHSG1872        150         10       140   \n",
       "\n",
       "   GIANHAP   NGAYNHAP NGAYHETHAN      XUATXU  \n",
       "0   150000 2023-01-01 2023-01-01    HÀN QUỐC  \n",
       "1   120000 2023-02-02 2023-02-02  TRUNG QUỐC  \n",
       "2   110000 2023-03-03 2023-03-03    NHẬT BẢN  \n",
       "3   130000 2023-04-04 2023-04-04    THÁI LAN  \n",
       "4   140000 2023-05-05 2023-05-05   SINGAPORE  "
      ]
     },
     "execution_count": 33,
     "metadata": {},
     "output_type": "execute_result"
    }
   ],
   "source": [
    "# Xử lý và làm sạch bảng hoá chất (tạo df copy)\n",
    "df_copy_hoachat = df_hoachat.copy()\n",
    "df_copy_hoachat.head(5)"
   ]
  },
  {
   "cell_type": "code",
   "execution_count": 34,
   "metadata": {},
   "outputs": [
    {
     "data": {
      "text/plain": [
       "STT                    int64\n",
       "MAHC                  object\n",
       "TENHC                 object\n",
       "CASNO                 object\n",
       "LUONGNHAP              int64\n",
       "LUONGXUAT              int64\n",
       "LUONGTON               int64\n",
       "GIANHAP                int64\n",
       "NGAYNHAP      datetime64[ns]\n",
       "NGAYHETHAN    datetime64[ns]\n",
       "XUATXU                object\n",
       "dtype: object"
      ]
     },
     "execution_count": 34,
     "metadata": {},
     "output_type": "execute_result"
    }
   ],
   "source": [
    "df_copy_hoachat.dtypes"
   ]
  },
  {
   "cell_type": "code",
   "execution_count": 35,
   "metadata": {},
   "outputs": [
    {
     "data": {
      "text/html": [
       "<div>\n",
       "<style scoped>\n",
       "    .dataframe tbody tr th:only-of-type {\n",
       "        vertical-align: middle;\n",
       "    }\n",
       "\n",
       "    .dataframe tbody tr th {\n",
       "        vertical-align: top;\n",
       "    }\n",
       "\n",
       "    .dataframe thead th {\n",
       "        text-align: right;\n",
       "    }\n",
       "</style>\n",
       "<table border=\"1\" class=\"dataframe\">\n",
       "  <thead>\n",
       "    <tr style=\"text-align: right;\">\n",
       "      <th></th>\n",
       "      <th>STT</th>\n",
       "      <th>MAHC</th>\n",
       "      <th>TENHC</th>\n",
       "      <th>CASNO</th>\n",
       "      <th>LUONGNHAP</th>\n",
       "      <th>LUONGXUAT</th>\n",
       "      <th>LUONGTON</th>\n",
       "      <th>GIANHAP</th>\n",
       "      <th>NGAYNHAP</th>\n",
       "      <th>NGAYHETHAN</th>\n",
       "      <th>XUATXU</th>\n",
       "      <th>TONGGIA</th>\n",
       "    </tr>\n",
       "  </thead>\n",
       "  <tbody>\n",
       "    <tr>\n",
       "      <th>0</th>\n",
       "      <td>1</td>\n",
       "      <td>HC01</td>\n",
       "      <td>KALI HIDROXIT</td>\n",
       "      <td>SZHA0199</td>\n",
       "      <td>120</td>\n",
       "      <td>10</td>\n",
       "      <td>110</td>\n",
       "      <td>150000</td>\n",
       "      <td>2023-01-01</td>\n",
       "      <td>2023-01-01</td>\n",
       "      <td>HÀN QUỐC</td>\n",
       "      <td>18000000</td>\n",
       "    </tr>\n",
       "    <tr>\n",
       "      <th>1</th>\n",
       "      <td>2</td>\n",
       "      <td>HC02</td>\n",
       "      <td>NATRI HIDROXIT</td>\n",
       "      <td>JHXHJS112</td>\n",
       "      <td>110</td>\n",
       "      <td>10</td>\n",
       "      <td>100</td>\n",
       "      <td>120000</td>\n",
       "      <td>2023-02-02</td>\n",
       "      <td>2023-02-02</td>\n",
       "      <td>TRUNG QUỐC</td>\n",
       "      <td>13200000</td>\n",
       "    </tr>\n",
       "    <tr>\n",
       "      <th>2</th>\n",
       "      <td>3</td>\n",
       "      <td>HC03</td>\n",
       "      <td>BARI HIDROXIT</td>\n",
       "      <td>NSHJ10293</td>\n",
       "      <td>100</td>\n",
       "      <td>10</td>\n",
       "      <td>90</td>\n",
       "      <td>110000</td>\n",
       "      <td>2023-03-03</td>\n",
       "      <td>2023-03-03</td>\n",
       "      <td>NHẬT BẢN</td>\n",
       "      <td>11000000</td>\n",
       "    </tr>\n",
       "    <tr>\n",
       "      <th>3</th>\n",
       "      <td>4</td>\n",
       "      <td>HC04</td>\n",
       "      <td>AMON CLORUA</td>\n",
       "      <td>JDHHSK123</td>\n",
       "      <td>90</td>\n",
       "      <td>10</td>\n",
       "      <td>80</td>\n",
       "      <td>130000</td>\n",
       "      <td>2023-04-04</td>\n",
       "      <td>2023-04-04</td>\n",
       "      <td>THÁI LAN</td>\n",
       "      <td>11700000</td>\n",
       "    </tr>\n",
       "    <tr>\n",
       "      <th>4</th>\n",
       "      <td>5</td>\n",
       "      <td>HC05</td>\n",
       "      <td>AMON SUNFAT</td>\n",
       "      <td>DHSG1872</td>\n",
       "      <td>150</td>\n",
       "      <td>10</td>\n",
       "      <td>140</td>\n",
       "      <td>140000</td>\n",
       "      <td>2023-05-05</td>\n",
       "      <td>2023-05-05</td>\n",
       "      <td>SINGAPORE</td>\n",
       "      <td>21000000</td>\n",
       "    </tr>\n",
       "  </tbody>\n",
       "</table>\n",
       "</div>"
      ],
      "text/plain": [
       "   STT  MAHC           TENHC      CASNO  LUONGNHAP  LUONGXUAT  LUONGTON  \\\n",
       "0    1  HC01   KALI HIDROXIT   SZHA0199        120         10       110   \n",
       "1    2  HC02  NATRI HIDROXIT  JHXHJS112        110         10       100   \n",
       "2    3  HC03   BARI HIDROXIT  NSHJ10293        100         10        90   \n",
       "3    4  HC04     AMON CLORUA  JDHHSK123         90         10        80   \n",
       "4    5  HC05     AMON SUNFAT   DHSG1872        150         10       140   \n",
       "\n",
       "   GIANHAP   NGAYNHAP NGAYHETHAN      XUATXU   TONGGIA  \n",
       "0   150000 2023-01-01 2023-01-01    HÀN QUỐC  18000000  \n",
       "1   120000 2023-02-02 2023-02-02  TRUNG QUỐC  13200000  \n",
       "2   110000 2023-03-03 2023-03-03    NHẬT BẢN  11000000  \n",
       "3   130000 2023-04-04 2023-04-04    THÁI LAN  11700000  \n",
       "4   140000 2023-05-05 2023-05-05   SINGAPORE  21000000  "
      ]
     },
     "execution_count": 35,
     "metadata": {},
     "output_type": "execute_result"
    }
   ],
   "source": [
    "# Thêm cột tổng giá khi nhập số lượng lớn hoá chất\n",
    "df_copy_hoachat['TONGGIA'] = df_copy_hoachat['GIANHAP'].astype('int64') * df_copy_hoachat['LUONGNHAP'].astype('int64')\n",
    "df_copy_hoachat.head(5)"
   ]
  },
  {
   "cell_type": "code",
   "execution_count": 36,
   "metadata": {},
   "outputs": [
    {
     "data": {
      "text/html": [
       "<div>\n",
       "<style scoped>\n",
       "    .dataframe tbody tr th:only-of-type {\n",
       "        vertical-align: middle;\n",
       "    }\n",
       "\n",
       "    .dataframe tbody tr th {\n",
       "        vertical-align: top;\n",
       "    }\n",
       "\n",
       "    .dataframe thead th {\n",
       "        text-align: right;\n",
       "    }\n",
       "</style>\n",
       "<table border=\"1\" class=\"dataframe\">\n",
       "  <thead>\n",
       "    <tr style=\"text-align: right;\">\n",
       "      <th></th>\n",
       "      <th>STT</th>\n",
       "      <th>MAHC</th>\n",
       "      <th>TENHC</th>\n",
       "      <th>CASNO</th>\n",
       "      <th>LUONGNHAP</th>\n",
       "      <th>LUONGXUAT</th>\n",
       "      <th>LUONGTON</th>\n",
       "      <th>GIANHAP</th>\n",
       "      <th>NGAYNHAP</th>\n",
       "      <th>NGAYHETHAN</th>\n",
       "      <th>XUATXU</th>\n",
       "      <th>TONGGIA</th>\n",
       "      <th>THANGNHAP</th>\n",
       "    </tr>\n",
       "  </thead>\n",
       "  <tbody>\n",
       "    <tr>\n",
       "      <th>0</th>\n",
       "      <td>1</td>\n",
       "      <td>HC01</td>\n",
       "      <td>KALI HIDROXIT</td>\n",
       "      <td>SZHA0199</td>\n",
       "      <td>120</td>\n",
       "      <td>10</td>\n",
       "      <td>110</td>\n",
       "      <td>150000</td>\n",
       "      <td>2023-01-01</td>\n",
       "      <td>2023-01-01</td>\n",
       "      <td>HÀN QUỐC</td>\n",
       "      <td>18000000</td>\n",
       "      <td>01</td>\n",
       "    </tr>\n",
       "    <tr>\n",
       "      <th>1</th>\n",
       "      <td>2</td>\n",
       "      <td>HC02</td>\n",
       "      <td>NATRI HIDROXIT</td>\n",
       "      <td>JHXHJS112</td>\n",
       "      <td>110</td>\n",
       "      <td>10</td>\n",
       "      <td>100</td>\n",
       "      <td>120000</td>\n",
       "      <td>2023-02-02</td>\n",
       "      <td>2023-02-02</td>\n",
       "      <td>TRUNG QUỐC</td>\n",
       "      <td>13200000</td>\n",
       "      <td>02</td>\n",
       "    </tr>\n",
       "    <tr>\n",
       "      <th>2</th>\n",
       "      <td>3</td>\n",
       "      <td>HC03</td>\n",
       "      <td>BARI HIDROXIT</td>\n",
       "      <td>NSHJ10293</td>\n",
       "      <td>100</td>\n",
       "      <td>10</td>\n",
       "      <td>90</td>\n",
       "      <td>110000</td>\n",
       "      <td>2023-03-03</td>\n",
       "      <td>2023-03-03</td>\n",
       "      <td>NHẬT BẢN</td>\n",
       "      <td>11000000</td>\n",
       "      <td>03</td>\n",
       "    </tr>\n",
       "    <tr>\n",
       "      <th>3</th>\n",
       "      <td>4</td>\n",
       "      <td>HC04</td>\n",
       "      <td>AMON CLORUA</td>\n",
       "      <td>JDHHSK123</td>\n",
       "      <td>90</td>\n",
       "      <td>10</td>\n",
       "      <td>80</td>\n",
       "      <td>130000</td>\n",
       "      <td>2023-04-04</td>\n",
       "      <td>2023-04-04</td>\n",
       "      <td>THÁI LAN</td>\n",
       "      <td>11700000</td>\n",
       "      <td>04</td>\n",
       "    </tr>\n",
       "    <tr>\n",
       "      <th>4</th>\n",
       "      <td>5</td>\n",
       "      <td>HC05</td>\n",
       "      <td>AMON SUNFAT</td>\n",
       "      <td>DHSG1872</td>\n",
       "      <td>150</td>\n",
       "      <td>10</td>\n",
       "      <td>140</td>\n",
       "      <td>140000</td>\n",
       "      <td>2023-05-05</td>\n",
       "      <td>2023-05-05</td>\n",
       "      <td>SINGAPORE</td>\n",
       "      <td>21000000</td>\n",
       "      <td>05</td>\n",
       "    </tr>\n",
       "  </tbody>\n",
       "</table>\n",
       "</div>"
      ],
      "text/plain": [
       "   STT  MAHC           TENHC      CASNO  LUONGNHAP  LUONGXUAT  LUONGTON  \\\n",
       "0    1  HC01   KALI HIDROXIT   SZHA0199        120         10       110   \n",
       "1    2  HC02  NATRI HIDROXIT  JHXHJS112        110         10       100   \n",
       "2    3  HC03   BARI HIDROXIT  NSHJ10293        100         10        90   \n",
       "3    4  HC04     AMON CLORUA  JDHHSK123         90         10        80   \n",
       "4    5  HC05     AMON SUNFAT   DHSG1872        150         10       140   \n",
       "\n",
       "   GIANHAP   NGAYNHAP NGAYHETHAN      XUATXU   TONGGIA THANGNHAP  \n",
       "0   150000 2023-01-01 2023-01-01    HÀN QUỐC  18000000        01  \n",
       "1   120000 2023-02-02 2023-02-02  TRUNG QUỐC  13200000        02  \n",
       "2   110000 2023-03-03 2023-03-03    NHẬT BẢN  11000000        03  \n",
       "3   130000 2023-04-04 2023-04-04    THÁI LAN  11700000        04  \n",
       "4   140000 2023-05-05 2023-05-05   SINGAPORE  21000000        05  "
      ]
     },
     "execution_count": 36,
     "metadata": {},
     "output_type": "execute_result"
    }
   ],
   "source": [
    "# Thêm cột tháng nhập hoá chất\n",
    "get_month_hc = lambda sample_ngay:sample_ngay.split('-')[1]\n",
    "df_copy_hoachat['THANGNHAP'] = df_copy_hoachat['NGAYNHAP'].astype(str).apply(get_month_hc)\n",
    "df_copy_hoachat.head()"
   ]
  },
  {
   "cell_type": "code",
   "execution_count": 37,
   "metadata": {},
   "outputs": [
    {
     "data": {
      "text/html": [
       "<div>\n",
       "<style scoped>\n",
       "    .dataframe tbody tr th:only-of-type {\n",
       "        vertical-align: middle;\n",
       "    }\n",
       "\n",
       "    .dataframe tbody tr th {\n",
       "        vertical-align: top;\n",
       "    }\n",
       "\n",
       "    .dataframe thead th {\n",
       "        text-align: right;\n",
       "    }\n",
       "</style>\n",
       "<table border=\"1\" class=\"dataframe\">\n",
       "  <thead>\n",
       "    <tr style=\"text-align: right;\">\n",
       "      <th></th>\n",
       "      <th>STT</th>\n",
       "      <th>MAHC</th>\n",
       "      <th>TENHC</th>\n",
       "      <th>CASNO</th>\n",
       "      <th>LUONGNHAP</th>\n",
       "      <th>LUONGXUAT</th>\n",
       "      <th>LUONGTON</th>\n",
       "      <th>GIANHAP</th>\n",
       "      <th>TONGGIA</th>\n",
       "      <th>NGAYNHAP</th>\n",
       "      <th>THANGNHAP</th>\n",
       "      <th>NGAYHETHAN</th>\n",
       "      <th>XUATXU</th>\n",
       "    </tr>\n",
       "  </thead>\n",
       "  <tbody>\n",
       "    <tr>\n",
       "      <th>0</th>\n",
       "      <td>1</td>\n",
       "      <td>HC01</td>\n",
       "      <td>KALI HIDROXIT</td>\n",
       "      <td>SZHA0199</td>\n",
       "      <td>120</td>\n",
       "      <td>10</td>\n",
       "      <td>110</td>\n",
       "      <td>150000</td>\n",
       "      <td>18000000</td>\n",
       "      <td>2023-01-01</td>\n",
       "      <td>01</td>\n",
       "      <td>2023-01-01</td>\n",
       "      <td>HÀN QUỐC</td>\n",
       "    </tr>\n",
       "    <tr>\n",
       "      <th>1</th>\n",
       "      <td>2</td>\n",
       "      <td>HC02</td>\n",
       "      <td>NATRI HIDROXIT</td>\n",
       "      <td>JHXHJS112</td>\n",
       "      <td>110</td>\n",
       "      <td>10</td>\n",
       "      <td>100</td>\n",
       "      <td>120000</td>\n",
       "      <td>13200000</td>\n",
       "      <td>2023-02-02</td>\n",
       "      <td>02</td>\n",
       "      <td>2023-02-02</td>\n",
       "      <td>TRUNG QUỐC</td>\n",
       "    </tr>\n",
       "    <tr>\n",
       "      <th>2</th>\n",
       "      <td>3</td>\n",
       "      <td>HC03</td>\n",
       "      <td>BARI HIDROXIT</td>\n",
       "      <td>NSHJ10293</td>\n",
       "      <td>100</td>\n",
       "      <td>10</td>\n",
       "      <td>90</td>\n",
       "      <td>110000</td>\n",
       "      <td>11000000</td>\n",
       "      <td>2023-03-03</td>\n",
       "      <td>03</td>\n",
       "      <td>2023-03-03</td>\n",
       "      <td>NHẬT BẢN</td>\n",
       "    </tr>\n",
       "    <tr>\n",
       "      <th>3</th>\n",
       "      <td>4</td>\n",
       "      <td>HC04</td>\n",
       "      <td>AMON CLORUA</td>\n",
       "      <td>JDHHSK123</td>\n",
       "      <td>90</td>\n",
       "      <td>10</td>\n",
       "      <td>80</td>\n",
       "      <td>130000</td>\n",
       "      <td>11700000</td>\n",
       "      <td>2023-04-04</td>\n",
       "      <td>04</td>\n",
       "      <td>2023-04-04</td>\n",
       "      <td>THÁI LAN</td>\n",
       "    </tr>\n",
       "    <tr>\n",
       "      <th>4</th>\n",
       "      <td>5</td>\n",
       "      <td>HC05</td>\n",
       "      <td>AMON SUNFAT</td>\n",
       "      <td>DHSG1872</td>\n",
       "      <td>150</td>\n",
       "      <td>10</td>\n",
       "      <td>140</td>\n",
       "      <td>140000</td>\n",
       "      <td>21000000</td>\n",
       "      <td>2023-05-05</td>\n",
       "      <td>05</td>\n",
       "      <td>2023-05-05</td>\n",
       "      <td>SINGAPORE</td>\n",
       "    </tr>\n",
       "  </tbody>\n",
       "</table>\n",
       "</div>"
      ],
      "text/plain": [
       "   STT  MAHC           TENHC      CASNO  LUONGNHAP  LUONGXUAT  LUONGTON  \\\n",
       "0    1  HC01   KALI HIDROXIT   SZHA0199        120         10       110   \n",
       "1    2  HC02  NATRI HIDROXIT  JHXHJS112        110         10       100   \n",
       "2    3  HC03   BARI HIDROXIT  NSHJ10293        100         10        90   \n",
       "3    4  HC04     AMON CLORUA  JDHHSK123         90         10        80   \n",
       "4    5  HC05     AMON SUNFAT   DHSG1872        150         10       140   \n",
       "\n",
       "   GIANHAP   TONGGIA   NGAYNHAP THANGNHAP NGAYHETHAN      XUATXU  \n",
       "0   150000  18000000 2023-01-01        01 2023-01-01    HÀN QUỐC  \n",
       "1   120000  13200000 2023-02-02        02 2023-02-02  TRUNG QUỐC  \n",
       "2   110000  11000000 2023-03-03        03 2023-03-03    NHẬT BẢN  \n",
       "3   130000  11700000 2023-04-04        04 2023-04-04    THÁI LAN  \n",
       "4   140000  21000000 2023-05-05        05 2023-05-05   SINGAPORE  "
      ]
     },
     "execution_count": 37,
     "metadata": {},
     "output_type": "execute_result"
    }
   ],
   "source": [
    "# Di chuyển các cột mới thêm lên trước để quản lý\n",
    "moving_col_tonggia = df_copy_hoachat.pop('TONGGIA')\n",
    "df_copy_hoachat.insert(8, 'TONGGIA', moving_col_tonggia)\n",
    "\n",
    "moving_col_thangnhap = df_copy_hoachat.pop('THANGNHAP')\n",
    "df_copy_hoachat.insert(10, 'THANGNHAP', moving_col_thangnhap)\n",
    "df_copy_hoachat.head()"
   ]
  },
  {
   "cell_type": "code",
   "execution_count": 38,
   "metadata": {},
   "outputs": [
    {
     "name": "stderr",
     "output_type": "stream",
     "text": [
      "C:\\Users\\Admin\\AppData\\Local\\Temp\\ipykernel_11308\\2314092340.py:2: FutureWarning: The default value of numeric_only in DataFrameGroupBy.sum is deprecated. In a future version, numeric_only will default to False. Either specify numeric_only or select only columns which should be valid for the function.\n",
      "  soluong_thang_list = df_copy_hoachat.groupby('THANGNHAP').sum()['LUONGNHAP']\n"
     ]
    },
    {
     "data": {
      "image/png": "[encoded data removed]",
      "text/plain": [
       "<Figure size 600x600 with 1 Axes>"
      ]
     },
     "metadata": {},
     "output_type": "display_data"
    }
   ],
   "source": [
    "# Trực quan hoá dữ liệu (Số lượng nhập mà phòng lab đã nhập về trong 12 tháng vừa qua)\n",
    "soluong_thang_list = df_copy_hoachat.groupby('THANGNHAP').sum()['LUONGNHAP']\n",
    "soluong_thang_list.max\n",
    "\n",
    "sp_sl_thang = [soluong for soluong, thang in\n",
    "               soluong_thang_list.items()]\n",
    "fig, ax = plt.subplots(figsize=(6,6))\n",
    "bar_container = plt.bar(x=sp_sl_thang, height=soluong_thang_list, color=['red', 'green'])\n",
    "plt.xticks(sp_sl_thang)\n",
    "plt.title('SỐ LƯỢNG MÀ PHÒNG LAB ĐÃ NHẬP VỀ TRONG 12 THÁNG VỪA QUA', color='red')\n",
    "plt.xlabel('THÁNG', color='blue')\n",
    "plt.ylabel('SỐ LƯỢNG', color='green')\n",
    "ax.bar_label(bar_container)\n",
    "plt.show()"
   ]
  },
  {
   "cell_type": "code",
   "execution_count": 39,
   "metadata": {},
   "outputs": [
    {
     "name": "stderr",
     "output_type": "stream",
     "text": [
      "C:\\Users\\Admin\\AppData\\Local\\Temp\\ipykernel_11308\\1079600554.py:2: FutureWarning: The default value of numeric_only in DataFrameGroupBy.sum is deprecated. In a future version, numeric_only will default to False. Either specify numeric_only or select only columns which should be valid for the function.\n",
      "  soluong_hoachat_list = df_copy_hoachat.groupby('TENHC').sum()['LUONGTON']\n",
      "C:\\Users\\Admin\\AppData\\Local\\Temp\\ipykernel_11308\\1079600554.py:17: UserWarning: FixedFormatter should only be used together with FixedLocator\n",
      "  ax1.set_xticklabels(sp_sl, rotation= 90, size= 8)\n"
     ]
    },
    {
     "data": {
      "image/png": "[encoded data removed]",
      "text/plain": [
       "<Figure size 600x600 with 2 Axes>"
      ]
     },
     "metadata": {},
     "output_type": "display_data"
    }
   ],
   "source": [
    "# Thống kê số lượng tồn còn trong kho\n",
    "soluong_hoachat_list = df_copy_hoachat.groupby('TENHC').sum()['LUONGTON']\n",
    "soluong_hoachat_list.max\n",
    "\n",
    "sp_sl = [soluong for soluong, id in\n",
    "         soluong_hoachat_list.items()]\n",
    "\n",
    "x = sp_sl\n",
    "y1 = soluong_thang_list\n",
    "y2 = soluong_hoachat_list\n",
    "fig, ax1 = plt.subplots(figsize=(6,6))\n",
    "ax2 = ax1.twinx()\n",
    "\n",
    "bar_container_thang = plt.bar(x= x, height= y1)\n",
    "bar_container_mats = plt.plot(x, y2, 'r', marker= 'o', linestyle= 'dashdot')\n",
    "\n",
    "ax1.set_xticklabels(sp_sl, rotation= 90, size= 8)\n",
    "ax1.set(xlabel= 'TÊN HOÁ CHẤT', ylabel= 'THÁNG', ylim=(1,12))\n",
    "ax2.set_ylabel('SỐ LƯỢNG')\n",
    "plt.title('THỐNG KÊ SỐ LƯỢNG TỒN TRONG KHO')\n",
    "plt.show()"
   ]
  },
  {
   "cell_type": "code",
   "execution_count": 41,
   "metadata": {},
   "outputs": [
    {
     "name": "stderr",
     "output_type": "stream",
     "text": [
      "C:\\Users\\Admin\\AppData\\Local\\Temp\\ipykernel_11308\\707284931.py:2: FutureWarning: The default value of numeric_only in DataFrameGroupBy.sum is deprecated. In a future version, numeric_only will default to False. Either specify numeric_only or select only columns which should be valid for the function.\n",
      "  xuatsu = df_copy_hoachat.groupby('XUATXU').sum()['LUONGNHAP']\n"
     ]
    },
    {
     "data": {
      "image/png": "[encoded data removed]",
      "text/plain": [
       "<Figure size 900x900 with 1 Axes>"
      ]
     },
     "metadata": {},
     "output_type": "display_data"
    }
   ],
   "source": [
    "# % Số lượng nhập hàng có xuất sứ từ các quốc gia\n",
    "xuatsu = df_copy_hoachat.groupby('XUATXU').sum()['LUONGNHAP']\n",
    "xuatsu.max\n",
    "\n",
    "sums = xuatsu\n",
    "fig, ax = plt.subplots(figsize=(9,9))\n",
    "plt.title('% SỐ LƯỢNG XUẤT SỨ TỪ CÁC QUỐC GIA')\n",
    "plt.axis()\n",
    "plt.pie(\n",
    "    sums,\n",
    "    labels= sums.index,\n",
    "    colors=['red', 'green', 'blue', 'purple', 'yellow', 'brown', 'gray', 'orange', 'pink', 'silver', 'white'],\n",
    "    autopct= '%1.1f%%', # Hiển thị số phần trăm\n",
    "    startangle=180\n",
    ")\n",
    "plt.legend()\n",
    "plt.show()"
   ]
  },
  {
   "cell_type": "code",
   "execution_count": 43,
   "metadata": {},
   "outputs": [
    {
     "data": {
      "application/vnd.plotly.v1+json": {
       "config": {
        "plotlyServerURL": "https://plot.ly"
       },
       "data": [
        {
         "fillpattern": {
          "shape": ""
         },
         "hovertemplate": "HOÁ CHẤT=KALI HIDROXIT<br>XUẤT SỨ=HÀN QUỐC<br>THÁNG=%{x}<br>TỔNG GIÁ=%{y}<extra></extra>",
         "legendgroup": "KALI HIDROXIT",
         "line": {
          "color": "#636efa"
         },
         "marker": {
          "symbol": "circle"
         },
         "mode": "lines",
         "name": "KALI HIDROXIT",
         "orientation": "v",
         "showlegend": true,
         "stackgroup": "1",
         "type": "scatter",
         "x": [
          "01"
         ],
         "xaxis": "x",
         "y": [
          18000000
         ],
         "yaxis": "y"
        },
        {
         "fillpattern": {
          "shape": ""
         },
         "hovertemplate": "HOÁ CHẤT=NATRI HIDROXIT<br>XUẤT SỨ=TRUNG QUỐC<br>THÁNG=%{x}<br>TỔNG GIÁ=%{y}<extra></extra>",
         "legendgroup": "NATRI HIDROXIT",
         "line": {
          "color": "#EF553B"
         },
         "marker": {
          "symbol": "circle"
         },
         "mode": "lines",
         "name": "NATRI HIDROXIT",
         "orientation": "v",
         "showlegend": true,
         "stackgroup": "1",
         "type": "scatter",
         "x": [
          "02"
         ],
         "xaxis": "x",
         "y": [
          13200000
         ],
         "yaxis": "y"
        },
        {
         "fillpattern": {
          "shape": ""
         },
         "hovertemplate": "HOÁ CHẤT=BARI HIDROXIT<br>XUẤT SỨ=NHẬT BẢN<br>THÁNG=%{x}<br>TỔNG GIÁ=%{y}<extra></extra>",
         "legendgroup": "BARI HIDROXIT",
         "line": {
          "color": "#00cc96"
         },
         "marker": {
          "symbol": "circle"
         },
         "mode": "lines",
         "name": "BARI HIDROXIT",
         "orientation": "v",
         "showlegend": true,
         "stackgroup": "1",
         "type": "scatter",
         "x": [
          "03"
         ],
         "xaxis": "x",
         "y": [
          11000000
         ],
         "yaxis": "y"
        },
        {
         "fillpattern": {
          "shape": ""
         },
         "hovertemplate": "HOÁ CHẤT=AMON CLORUA<br>XUẤT SỨ=THÁI LAN<br>THÁNG=%{x}<br>TỔNG GIÁ=%{y}<extra></extra>",
         "legendgroup": "AMON CLORUA",
         "line": {
          "color": "#ab63fa"
         },
         "marker": {
          "symbol": "circle"
         },
         "mode": "lines",
         "name": "AMON CLORUA",
         "orientation": "v",
         "showlegend": true,
         "stackgroup": "1",
         "type": "scatter",
         "x": [
          "04"
         ],
         "xaxis": "x",
         "y": [
          11700000
         ],
         "yaxis": "y"
        },
        {
         "fillpattern": {
          "shape": ""
         },
         "hovertemplate": "HOÁ CHẤT=AMON SUNFAT<br>XUẤT SỨ=SINGAPORE<br>THÁNG=%{x}<br>TỔNG GIÁ=%{y}<extra></extra>",
         "legendgroup": "AMON SUNFAT",
         "line": {
          "color": "#FFA15A"
         },
         "marker": {
          "symbol": "circle"
         },
         "mode": "lines",
         "name": "AMON SUNFAT",
         "orientation": "v",
         "showlegend": true,
         "stackgroup": "1",
         "type": "scatter",
         "x": [
          "05"
         ],
         "xaxis": "x",
         "y": [
          21000000
         ],
         "yaxis": "y"
        },
        {
         "fillpattern": {
          "shape": ""
         },
         "hovertemplate": "HOÁ CHẤT=AMON NITRAT<br>XUẤT SỨ=VIỆT NAM<br>THÁNG=%{x}<br>TỔNG GIÁ=%{y}<extra></extra>",
         "legendgroup": "AMON NITRAT",
         "line": {
          "color": "#19d3f3"
         },
         "marker": {
          "symbol": "circle"
         },
         "mode": "lines",
         "name": "AMON NITRAT",
         "orientation": "v",
         "showlegend": true,
         "stackgroup": "1",
         "type": "scatter",
         "x": [
          "06"
         ],
         "xaxis": "x",
         "y": [
          27200000
         ],
         "yaxis": "y"
        },
        {
         "fillpattern": {
          "shape": ""
         },
         "hovertemplate": "HOÁ CHẤT=NATRI NITRAT<br>XUẤT SỨ=QUATA<br>THÁNG=%{x}<br>TỔNG GIÁ=%{y}<extra></extra>",
         "legendgroup": "NATRI NITRAT",
         "line": {
          "color": "#FF6692"
         },
         "marker": {
          "symbol": "circle"
         },
         "mode": "lines",
         "name": "NATRI NITRAT",
         "orientation": "v",
         "showlegend": true,
         "stackgroup": "1",
         "type": "scatter",
         "x": [
          "07"
         ],
         "xaxis": "x",
         "y": [
          27200000
         ],
         "yaxis": "y"
        },
        {
         "fillpattern": {
          "shape": ""
         },
         "hovertemplate": "HOÁ CHẤT=CANXI NITRAT<br>XUẤT SỨ=DONGTIMOR<br>THÁNG=%{x}<br>TỔNG GIÁ=%{y}<extra></extra>",
         "legendgroup": "CANXI NITRAT",
         "line": {
          "color": "#B6E880"
         },
         "marker": {
          "symbol": "circle"
         },
         "mode": "lines",
         "name": "CANXI NITRAT",
         "orientation": "v",
         "showlegend": true,
         "stackgroup": "1",
         "type": "scatter",
         "x": [
          "08"
         ],
         "xaxis": "x",
         "y": [
          36000000
         ],
         "yaxis": "y"
        },
        {
         "fillpattern": {
          "shape": ""
         },
         "hovertemplate": "HOÁ CHẤT=KALI CLORUA<br>XUẤT SỨ=HÀ LAN<br>THÁNG=%{x}<br>TỔNG GIÁ=%{y}<extra></extra>",
         "legendgroup": "KALI CLORUA",
         "line": {
          "color": "#FF97FF"
         },
         "marker": {
          "symbol": "circle"
         },
         "mode": "lines",
         "name": "KALI CLORUA",
         "orientation": "v",
         "showlegend": true,
         "stackgroup": "1",
         "type": "scatter",
         "x": [
          "09"
         ],
         "xaxis": "x",
         "y": [
          15200000
         ],
         "yaxis": "y"
        },
        {
         "fillpattern": {
          "shape": ""
         },
         "hovertemplate": "HOÁ CHẤT=KALI SUNFAT<br>XUẤT SỨ=ANH QUỐC<br>THÁNG=%{x}<br>TỔNG GIÁ=%{y}<extra></extra>",
         "legendgroup": "KALI SUNFAT",
         "line": {
          "color": "#FECB52"
         },
         "marker": {
          "symbol": "circle"
         },
         "mode": "lines",
         "name": "KALI SUNFAT",
         "orientation": "v",
         "showlegend": true,
         "stackgroup": "1",
         "type": "scatter",
         "x": [
          "10"
         ],
         "xaxis": "x",
         "y": [
          20000000
         ],
         "yaxis": "y"
        }
       ],
       "layout": {
        "legend": {
         "title": {
          "text": "HOÁ CHẤT"
         },
         "tracegroupgap": 0
        },
        "margin": {
         "t": 60
        },
        "template": {
         "data": {
          "bar": [
           {
            "error_x": {
             "color": "#2a3f5f"
            },
            "error_y": {
             "color": "#2a3f5f"
            },
            "marker": {
             "line": {
              "color": "#E5ECF6",
              "width": 0.5
             },
             "pattern": {
              "fillmode": "overlay",
              "size": 10,
              "solidity": 0.2
             }
            },
            "type": "bar"
           }
          ],
          "barpolar": [
           {
            "marker": {
             "line": {
              "color": "#E5ECF6",
              "width": 0.5
             },
             "pattern": {
              "fillmode": "overlay",
              "size": 10,
              "solidity": 0.2
             }
            },
            "type": "barpolar"
           }
          ],
          "carpet": [
           {
            "aaxis": {
             "endlinecolor": "#2a3f5f",
             "gridcolor": "white",
             "linecolor": "white",
             "minorgridcolor": "white",
             "startlinecolor": "#2a3f5f"
            },
            "baxis": {
             "endlinecolor": "#2a3f5f",
             "gridcolor": "white",
             "linecolor": "white",
             "minorgridcolor": "white",
             "startlinecolor": "#2a3f5f"
            },
            "type": "carpet"
           }
          ],
          "choropleth": [
           {
            "colorbar": {
             "outlinewidth": 0,
             "ticks": ""
            },
            "type": "choropleth"
           }
          ],
          "contour": [
           {
            "colorbar": {
             "outlinewidth": 0,
             "ticks": ""
            },
            "colorscale": [
             [
              0,
              "#0d0887"
             ],
             [
              0.1111111111111111,
              "#46039f"
             ],
             [
              0.2222222222222222,
              "#7201a8"
             ],
             [
              0.3333333333333333,
              "#9c179e"
             ],
             [
              0.4444444444444444,
              "#bd3786"
             ],
             [
              0.5555555555555556,
              "#d8576b"
             ],
             [
              0.6666666666666666,
              "#ed7953"
             ],
             [
              0.7777777777777778,
              "#fb9f3a"
             ],
             [
              0.8888888888888888,
              "#fdca26"
             ],
             [
              1,
              "#f0f921"
             ]
            ],
            "type": "contour"
           }
          ],
          "contourcarpet": [
           {
            "colorbar": {
             "outlinewidth": 0,
             "ticks": ""
            },
            "type": "contourcarpet"
           }
          ],
          "heatmap": [
           {
            "colorbar": {
             "outlinewidth": 0,
             "ticks": ""
            },
            "colorscale": [
             [
              0,
              "#0d0887"
             ],
             [
              0.1111111111111111,
              "#46039f"
             ],
             [
              0.2222222222222222,
              "#7201a8"
             ],
             [
              0.3333333333333333,
              "#9c179e"
             ],
             [
              0.4444444444444444,
              "#bd3786"
             ],
             [
              0.5555555555555556,
              "#d8576b"
             ],
             [
              0.6666666666666666,
              "#ed7953"
             ],
             [
              0.7777777777777778,
              "#fb9f3a"
             ],
             [
              0.8888888888888888,
              "#fdca26"
             ],
             [
              1,
              "#f0f921"
             ]
            ],
            "type": "heatmap"
           }
          ],
          "heatmapgl": [
           {
            "colorbar": {
             "outlinewidth": 0,
             "ticks": ""
            },
            "colorscale": [
             [
              0,
              "#0d0887"
             ],
             [
              0.1111111111111111,
              "#46039f"
             ],
             [
              0.2222222222222222,
              "#7201a8"
             ],
             [
              0.3333333333333333,
              "#9c179e"
             ],
             [
              0.4444444444444444,
              "#bd3786"
             ],
             [
              0.5555555555555556,
              "#d8576b"
             ],
             [
              0.6666666666666666,
              "#ed7953"
             ],
             [
              0.7777777777777778,
              "#fb9f3a"
             ],
             [
              0.8888888888888888,
              "#fdca26"
             ],
             [
              1,
              "#f0f921"
             ]
            ],
            "type": "heatmapgl"
           }
          ],
          "histogram": [
           {
            "marker": {
             "pattern": {
              "fillmode": "overlay",
              "size": 10,
              "solidity": 0.2
             }
            },
            "type": "histogram"
           }
          ],
          "histogram2d": [
           {
            "colorbar": {
             "outlinewidth": 0,
             "ticks": ""
            },
            "colorscale": [
             [
              0,
              "#0d0887"
             ],
             [
              0.1111111111111111,
              "#46039f"
             ],
             [
              0.2222222222222222,
              "#7201a8"
             ],
             [
              0.3333333333333333,
              "#9c179e"
             ],
             [
              0.4444444444444444,
              "#bd3786"
             ],
             [
              0.5555555555555556,
              "#d8576b"
             ],
             [
              0.6666666666666666,
              "#ed7953"
             ],
             [
              0.7777777777777778,
              "#fb9f3a"
             ],
             [
              0.8888888888888888,
              "#fdca26"
             ],
             [
              1,
              "#f0f921"
             ]
            ],
            "type": "histogram2d"
           }
          ],
          "histogram2dcontour": [
           {
            "colorbar": {
             "outlinewidth": 0,
             "ticks": ""
            },
            "colorscale": [
             [
              0,
              "#0d0887"
             ],
             [
              0.1111111111111111,
              "#46039f"
             ],
             [
              0.2222222222222222,
              "#7201a8"
             ],
             [
              0.3333333333333333,
              "#9c179e"
             ],
             [
              0.4444444444444444,
              "#bd3786"
             ],
             [
              0.5555555555555556,
              "#d8576b"
             ],
             [
              0.6666666666666666,
              "#ed7953"
             ],
             [
              0.7777777777777778,
              "#fb9f3a"
             ],
             [
              0.8888888888888888,
              "#fdca26"
             ],
             [
              1,
              "#f0f921"
             ]
            ],
            "type": "histogram2dcontour"
           }
          ],
          "mesh3d": [
           {
            "colorbar": {
             "outlinewidth": 0,
             "ticks": ""
            },
            "type": "mesh3d"
           }
          ],
          "parcoords": [
           {
            "line": {
             "colorbar": {
              "outlinewidth": 0,
              "ticks": ""
             }
            },
            "type": "parcoords"
           }
          ],
          "pie": [
           {
            "automargin": true,
            "type": "pie"
           }
          ],
          "scatter": [
           {
            "fillpattern": {
             "fillmode": "overlay",
             "size": 10,
             "solidity": 0.2
            },
            "type": "scatter"
           }
          ],
          "scatter3d": [
           {
            "line": {
             "colorbar": {
              "outlinewidth": 0,
              "ticks": ""
             }
            },
            "marker": {
             "colorbar": {
              "outlinewidth": 0,
              "ticks": ""
             }
            },
            "type": "scatter3d"
           }
          ],
          "scattercarpet": [
           {
            "marker": {
             "colorbar": {
              "outlinewidth": 0,
              "ticks": ""
             }
            },
            "type": "scattercarpet"
           }
          ],
          "scattergeo": [
           {
            "marker": {
             "colorbar": {
              "outlinewidth": 0,
              "ticks": ""
             }
            },
            "type": "scattergeo"
           }
          ],
          "scattergl": [
           {
            "marker": {
             "colorbar": {
              "outlinewidth": 0,
              "ticks": ""
             }
            },
            "type": "scattergl"
           }
          ],
          "scattermapbox": [
           {
            "marker": {
             "colorbar": {
              "outlinewidth": 0,
              "ticks": ""
             }
            },
            "type": "scattermapbox"
           }
          ],
          "scatterpolar": [
           {
            "marker": {
             "colorbar": {
              "outlinewidth": 0,
              "ticks": ""
             }
            },
            "type": "scatterpolar"
           }
          ],
          "scatterpolargl": [
           {
            "marker": {
             "colorbar": {
              "outlinewidth": 0,
              "ticks": ""
             }
            },
            "type": "scatterpolargl"
           }
          ],
          "scatterternary": [
           {
            "marker": {
             "colorbar": {
              "outlinewidth": 0,
              "ticks": ""
             }
            },
            "type": "scatterternary"
           }
          ],
          "surface": [
           {
            "colorbar": {
             "outlinewidth": 0,
             "ticks": ""
            },
            "colorscale": [
             [
              0,
              "#0d0887"
             ],
             [
              0.1111111111111111,
              "#46039f"
             ],
             [
              0.2222222222222222,
              "#7201a8"
             ],
             [
              0.3333333333333333,
              "#9c179e"
             ],
             [
              0.4444444444444444,
              "#bd3786"
             ],
             [
              0.5555555555555556,
              "#d8576b"
             ],
             [
              0.6666666666666666,
              "#ed7953"
             ],
             [
              0.7777777777777778,
              "#fb9f3a"
             ],
             [
              0.8888888888888888,
              "#fdca26"
             ],
             [
              1,
              "#f0f921"
             ]
            ],
            "type": "surface"
           }
          ],
          "table": [
           {
            "cells": {
             "fill": {
              "color": "#EBF0F8"
             },
             "line": {
              "color": "white"
             }
            },
            "header": {
             "fill": {
              "color": "#C8D4E3"
             },
             "line": {
              "color": "white"
             }
            },
            "type": "table"
           }
          ]
         },
         "layout": {
          "annotationdefaults": {
           "arrowcolor": "#2a3f5f",
           "arrowhead": 0,
           "arrowwidth": 1
          },
          "autotypenumbers": "strict",
          "coloraxis": {
           "colorbar": {
            "outlinewidth": 0,
            "ticks": ""
           }
          },
          "colorscale": {
           "diverging": [
            [
             0,
             "#8e0152"
            ],
            [
             0.1,
             "#c51b7d"
            ],
            [
             0.2,
             "#de77ae"
            ],
            [
             0.3,
             "#f1b6da"
            ],
            [
             0.4,
             "#fde0ef"
            ],
            [
             0.5,
             "#f7f7f7"
            ],
            [
             0.6,
             "#e6f5d0"
            ],
            [
             0.7,
             "#b8e186"
            ],
            [
             0.8,
             "#7fbc41"
            ],
            [
             0.9,
             "#4d9221"
            ],
            [
             1,
             "#276419"
            ]
           ],
           "sequential": [
            [
             0,
             "#0d0887"
            ],
            [
             0.1111111111111111,
             "#46039f"
            ],
            [
             0.2222222222222222,
             "#7201a8"
            ],
            [
             0.3333333333333333,
             "#9c179e"
            ],
            [
             0.4444444444444444,
             "#bd3786"
            ],
            [
             0.5555555555555556,
             "#d8576b"
            ],
            [
             0.6666666666666666,
             "#ed7953"
            ],
            [
             0.7777777777777778,
             "#fb9f3a"
            ],
            [
             0.8888888888888888,
             "#fdca26"
            ],
            [
             1,
             "#f0f921"
            ]
           ],
           "sequentialminus": [
            [
             0,
             "#0d0887"
            ],
            [
             0.1111111111111111,
             "#46039f"
            ],
            [
             0.2222222222222222,
             "#7201a8"
            ],
            [
             0.3333333333333333,
             "#9c179e"
            ],
            [
             0.4444444444444444,
             "#bd3786"
            ],
            [
             0.5555555555555556,
             "#d8576b"
            ],
            [
             0.6666666666666666,
             "#ed7953"
            ],
            [
             0.7777777777777778,
             "#fb9f3a"
            ],
            [
             0.8888888888888888,
             "#fdca26"
            ],
            [
             1,
             "#f0f921"
            ]
           ]
          },
          "colorway": [
           "#636efa",
           "#EF553B",
           "#00cc96",
           "#ab63fa",
           "#FFA15A",
           "#19d3f3",
           "#FF6692",
           "#B6E880",
           "#FF97FF",
           "#FECB52"
          ],
          "font": {
           "color": "#2a3f5f"
          },
          "geo": {
           "bgcolor": "white",
           "lakecolor": "white",
           "landcolor": "#E5ECF6",
           "showlakes": true,
           "showland": true,
           "subunitcolor": "white"
          },
          "hoverlabel": {
           "align": "left"
          },
          "hovermode": "closest",
          "mapbox": {
           "style": "light"
          },
          "paper_bgcolor": "white",
          "plot_bgcolor": "#E5ECF6",
          "polar": {
           "angularaxis": {
            "gridcolor": "white",
            "linecolor": "white",
            "ticks": ""
           },
           "bgcolor": "#E5ECF6",
           "radialaxis": {
            "gridcolor": "white",
            "linecolor": "white",
            "ticks": ""
           }
          },
          "scene": {
           "xaxis": {
            "backgroundcolor": "#E5ECF6",
            "gridcolor": "white",
            "gridwidth": 2,
            "linecolor": "white",
            "showbackground": true,
            "ticks": "",
            "zerolinecolor": "white"
           },
           "yaxis": {
            "backgroundcolor": "#E5ECF6",
            "gridcolor": "white",
            "gridwidth": 2,
            "linecolor": "white",
            "showbackground": true,
            "ticks": "",
            "zerolinecolor": "white"
           },
           "zaxis": {
            "backgroundcolor": "#E5ECF6",
            "gridcolor": "white",
            "gridwidth": 2,
            "linecolor": "white",
            "showbackground": true,
            "ticks": "",
            "zerolinecolor": "white"
           }
          },
          "shapedefaults": {
           "line": {
            "color": "#2a3f5f"
           }
          },
          "ternary": {
           "aaxis": {
            "gridcolor": "white",
            "linecolor": "white",
            "ticks": ""
           },
           "baxis": {
            "gridcolor": "white",
            "linecolor": "white",
            "ticks": ""
           },
           "bgcolor": "#E5ECF6",
           "caxis": {
            "gridcolor": "white",
            "linecolor": "white",
            "ticks": ""
           }
          },
          "title": {
           "x": 0.05
          },
          "xaxis": {
           "automargin": true,
           "gridcolor": "white",
           "linecolor": "white",
           "ticks": "",
           "title": {
            "standoff": 15
           },
           "zerolinecolor": "white",
           "zerolinewidth": 2
          },
          "yaxis": {
           "automargin": true,
           "gridcolor": "white",
           "linecolor": "white",
           "ticks": "",
           "title": {
            "standoff": 15
           },
           "zerolinecolor": "white",
           "zerolinewidth": 2
          }
         }
        },
        "xaxis": {
         "anchor": "y",
         "domain": [
          0,
          1
         ],
         "title": {
          "text": "THÁNG"
         }
        },
        "yaxis": {
         "anchor": "x",
         "domain": [
          0,
          1
         ],
         "title": {
          "text": "TỔNG GIÁ"
         }
        }
       }
      }
     },
     "metadata": {},
     "output_type": "display_data"
    }
   ],
   "source": [
    "# Tổng giá nhập vào dựa theo từng tháng\n",
    "fig = px.area(\n",
    "    df_copy_hoachat,\n",
    "    x=\"THANGNHAP\",\n",
    "    y=\"TONGGIA\",\n",
    "    color=\"TENHC\",\n",
    "    line_group=\"XUATXU\",\n",
    "    labels={\n",
    "        \"THANGNHAP\":\"THÁNG\",\n",
    "        \"TONGGIA\":\"TỔNG GIÁ\",\n",
    "        \"TENHC\":\"HOÁ CHẤT\",\n",
    "        \"XUATXU\":\"XUẤT SỨ\"\n",
    "})\n",
    "fig.show()"
   ]
  }
 ],
 "metadata": {
  "kernelspec": {
   "display_name": "Python 3",
   "language": "python",
   "name": "python3"
  },
  "language_info": {
   "codemirror_mode": {
    "name": "ipython",
    "version": 3
   },
   "file_extension": ".py",
   "mimetype": "text/x-python",
   "name": "python",
   "nbconvert_exporter": "python",
   "pygments_lexer": "ipython3",
   "version": "3.11.2"
  }
 },
 "nbformat": 4,
 "nbformat_minor": 2
}
